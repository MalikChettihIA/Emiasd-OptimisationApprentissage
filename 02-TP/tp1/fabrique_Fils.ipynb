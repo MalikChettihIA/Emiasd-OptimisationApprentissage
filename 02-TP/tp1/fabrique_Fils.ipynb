{
 "cells": [
  {
   "cell_type": "markdown",
   "id": "b4e908d1-fd81-4c72-94f1-a1709c99c05e",
   "metadata": {
    "deletable": false,
    "editable": false,
    "run_control": {
     "frozen": true
    },
    "slideshow": {
     "slide_type": ""
    },
    "tags": []
   },
   "source": [
    "# Fabrique de fibre optique\n",
    "\n",
    "\n",
    "Une entreprise de fabrication de fibre optique doit décider de son plan de production mensuel. Elle peut fabriquer trois types de fibre : \n",
    " * Fibre Fluorée vendue à 710 &euro; le mètre\n",
    " * Fibre Chlorée vendue à 690 &euro; le mètre\n",
    " * Fibre Mélangée vendue à 770 &euro; le mètre\n",
    "\n",
    "La fabrication de chaque type de fibre nécessite différentes ressources résumées dans le tableau ci-dessous.\n",
    "\n",
    "| Ressources    | Fibre Fluorée  | Fibre Chlorée    | Fibre Mélangée    |\n",
    "| ------------- | -------------: | ---------: | ---------: |\n",
    "| Silice        | 10 kg/m        | 15 kg/m    | 15 kg/m    |\n",
    "| Fluor         | 20 kg/m        | 0  kg/m    | 12 kg/m    |\n",
    "| Chlore        | 0 kg/m         | 34 kg/m    | 18 kg/m    |\n",
    "| Main-d'oeuvre | 4 h/m          | 5 h/m      | 6 h/m      |\n",
    "\n",
    "Le service ressource de l'entreprise a négocié différents contrats d'achat. L'entreprise achète chaque mois une tonne de silice, 400kg de Fluor, 350kg de Clore à prix fixe. Par ailleurs, elle dispose d'une équipe de 3 ouvriers pouvant fabriquer les différents types de fibres optiques, chacun des ouvriers travaillant 35h par semaine. Elle souhaite maximiser son profit généré par la vente de ses différentes fibres (on suppose que l'entreprise peut vendre tout ce qu'elle produit. De plus, elle peut produire n'importe quelle quantité (même quelques microns de fibre optique).\n",
    "\n",
    "\n",
    "## Question 1\n",
    "\n",
    "Modéliser le problème puis déterminer le plan de production optimal.\n"
   ]
  },
  {
   "cell_type": "code",
   "execution_count": null,
   "id": "b899c4bd-a667-4aff-aeea-ae50264973ff",
   "metadata": {
    "editable": true,
    "slideshow": {
     "slide_type": ""
    },
    "tags": []
   },
   "outputs": [],
   "source": [
    "# Exécuter cette cellule uniquement si python-mip n'est pas installée\n",
    "%pip install mip"
   ]
  },
  {
   "cell_type": "code",
   "execution_count": 1,
   "id": "60da51e7-8fab-46cc-8a3f-b807e9133218",
   "metadata": {
    "editable": true,
    "slideshow": {
     "slide_type": ""
    },
    "tags": [
     "anwer"
    ]
   },
   "outputs": [
    {
     "name": "stdout",
     "output_type": "stream",
     "text": [
      "Proft généré : 17650.0 euros\n",
      "Production de:\n",
      "20.0m de fibre fluorée\n",
      "5m de fibre chlorée\n",
      "0m de fibre mélangée\n",
      "temps de travail par personne : 35.0 heures\n",
      "pollution = 28.0 tonnes\n"
     ]
    }
   ],
   "source": [
    "from mip import *\n",
    "\n",
    "def production_fils():\n",
    "    m = Model()\n",
    "    m.verbose = 0\n",
    "\n",
    "    #xf, xc, xm : quantité en mètres de fibre fluorée, chlorée et mélangée\n",
    "    xf = m.add_var()\n",
    "    xc = m.add_var()\n",
    "    xm = m.add_var()\n",
    "\n",
    "    # Maximiser le bénéfice\n",
    "    m.objective = maximize(710 * xf + 690 * xc + 770 * xm)\n",
    "\n",
    "    # contraintes de ressources\n",
    "    m += 10 * xf + 15 * xc + 15 * xm <= 1000\n",
    "    m += 20 * xf + 12 * xm <= 400\n",
    "    m += 34 * xc + 18 * xm <= 350\n",
    "    m += 4 * xf + 5 * xc + 6 * xm <= 3 * 35\n",
    "\n",
    "    m.optimize()\n",
    "    print(f\"Proft généré : {round(m.objective_value,2)} euros\")\n",
    "    print(\"Production de:\")\n",
    "    print(f\"{round(xf.x,2)}m de fibre fluorée\")\n",
    "    print(f\"{round(xc.x)}m de fibre chlorée\")\n",
    "    print(f\"{round(xm.x)}m de fibre mélangée\")\n",
    "    ttp = round((4 * xf.x + 5 * xc.x + 6 * xm.x) / 3, 1)\n",
    "    print(f\"temps de travail par personne : {ttp} heures\")\n",
    "    co2 = 1.2 * xf.x + 0.8 * xc.x + 1.15 * xm.x\n",
    "    print(f\"pollution = {co2} tonnes\")\n",
    "\n",
    "production_fils()"
   ]
  },
  {
   "cell_type": "markdown",
   "id": "4cce5273-faeb-4021-8d18-e65206637f17",
   "metadata": {
    "deletable": false,
    "editable": false,
    "run_control": {
     "frozen": true
    },
    "slideshow": {
     "slide_type": ""
    },
    "tags": []
   },
   "source": [
    "## Question 2\n",
    "\n",
    "L'actionnaire ayant vendu ses parts à cause de la rentabilité trop faible, l'entreprise fonctionne maintenant en [SCOP](https://www.wikiwand.com/fr/articles/Société_coopérative_et_participative). Les trois employés ont donc décidé de s'assurer un revenu de 3000 euros par personne et par mois (cette somme couvre également les frais de fonctionnement) et de privilégier plutôt leur temps libre. \n",
    "\n",
    "Modéliser le nouveau problème."
   ]
  },
  {
   "cell_type": "code",
   "execution_count": 2,
   "id": "2124ed78-17a6-4be6-8603-c184e3909c06",
   "metadata": {
    "editable": true,
    "slideshow": {
     "slide_type": ""
    },
    "tags": [
     "anwer"
    ]
   },
   "outputs": [
    {
     "name": "stdout",
     "output_type": "stream",
     "text": [
      "Temps de travail par personne : 16.9 heures\n",
      "Production de:\n",
      "12.68m de fibre fluorée\n",
      "0m de fibre chlorée\n",
      "0m de fibre mélangée\n",
      "pollution = 15.211267605633806 tonnes de co2\n"
     ]
    }
   ],
   "source": [
    "def production_fils():\n",
    "    m = Model()\n",
    "    m.verbose = 0\n",
    "\n",
    "    #xf, xc, xm : quantité en mètres de fibre fluorée, chlorée et mélangée\n",
    "    xf = m.add_var()\n",
    "    xc = m.add_var()\n",
    "    xm = m.add_var()\n",
    "\n",
    "    # Maximiser le bénéfice\n",
    "    m.objective = minimize(4 * xf + 5 * xc + 6 * xm)\n",
    "\n",
    "    # contraintes de ressources\n",
    "    m += 10 * xf + 15 * xc + 15 * xm <= 1000\n",
    "    m += 20 * xf + 12 * xm <= 400\n",
    "    m += 34 * xc + 18 * xm <= 350\n",
    "    m += 710 * xf + 690 * xc + 770 * xm >= 3 * 3000\n",
    "    m.optimize()\n",
    "    print(f\"Temps de travail par personne : {round(m.objective_value / 3, 1)} heures\")\n",
    "    print(\"Production de:\")\n",
    "    print(f\"{round(xf.x,2)}m de fibre fluorée\")\n",
    "    print(f\"{round(xc.x)}m de fibre chlorée\")\n",
    "    print(f\"{round(xm.x)}m de fibre mélangée\")\n",
    "    co2 = 1.2 * xf.x + 0.8 * xc.x + 1.15 * xm.x\n",
    "    print(f\"pollution = {co2} tonnes de co2\")\n",
    "    \n",
    "\n",
    "production_fils()"
   ]
  },
  {
   "cell_type": "markdown",
   "id": "d1d9e3b3-5ef9-4d46-9dbd-aefade9e4657",
   "metadata": {
    "deletable": false,
    "editable": false,
    "run_control": {
     "frozen": true
    },
    "slideshow": {
     "slide_type": ""
    },
    "tags": []
   },
   "source": [
    "## Question 3\n",
    "\n",
    "Le déréglement climatique inquiète et les employés ont donc décidé de prendre en compte ce critère dans leur plan de production.\n",
    "Ils sont prêts à travailler quelques heures de plus (jusqu'à 25h par semaine par personne) pour avoir une production moins carbonée.\n",
    "Ils ont évalué les émissions suivantes : \n",
    "* 1.2 tco2 par mètre de fibre fluorée\n",
    "* 0.8 tco2 par mètre de fibre chlorée\n",
    "* 1.15 tco2 par mètre de fibre mélangée\n",
    "\n",
    "Modifier le plan de production."
   ]
  },
  {
   "cell_type": "code",
   "execution_count": 3,
   "id": "ca7a4825-7588-4a79-9ed9-8faec3668dff",
   "metadata": {
    "editable": true,
    "slideshow": {
     "slide_type": ""
    },
    "tags": [
     "anwer"
    ]
   },
   "outputs": [
    {
     "name": "stdout",
     "output_type": "stream",
     "text": [
      "CO2 généré : 11.44 tonnes\n",
      "Production de:\n",
      "2.67m de fibre fluorée\n",
      "10m de fibre chlorée\n",
      "0m de fibre mélangée\n",
      "temps de travail par personne : 20.7 heures\n"
     ]
    }
   ],
   "source": [
    "def production_fils():\n",
    "    m = Model()\n",
    "    m.verbose = 0\n",
    "\n",
    "    #xf, xc, xm : quantité en mètres de fibre fluorée, chlorée et mélangée\n",
    "    xf = m.add_var()\n",
    "    xc = m.add_var()\n",
    "    xm = m.add_var()\n",
    "\n",
    "    # Maximiser le bénéfice\n",
    "    m.objective = minimize(1.2 * xf + 0.8 * xc + 1.15 * xm)\n",
    "\n",
    "    # contraintes de ressources\n",
    "    m += 10 * xf + 15 * xc + 15 * xm <= 1000\n",
    "    m += 20 * xf + 12 * xm <= 400\n",
    "    m += 34 * xc + 18 * xm <= 350\n",
    "    m += 710 * xf + 690 * xc + 770 * xm >= 3 * 3000\n",
    "    m += 4 * xf + 5 * xc + 6 * xm <= 3 * 25\n",
    "    \n",
    "    m.optimize()\n",
    "    print(f\"CO2 généré : {round(m.objective_value,2)} tonnes\")\n",
    "    print(\"Production de:\")\n",
    "    print(f\"{round(xf.x,2)}m de fibre fluorée\")\n",
    "    print(f\"{round(xc.x)}m de fibre chlorée\")\n",
    "    print(f\"{round(xm.x)}m de fibre mélangée\")\n",
    "    ttp = round((4 * xf.x + 5 * xc.x + 6 * xm.x) / 3, 1)\n",
    "    print(f\"temps de travail par personne : {ttp} heures\")\n",
    "\n",
    "production_fils()"
   ]
  }
 ],
 "metadata": {
  "kernelspec": {
   "display_name": "emiasd-optimisation-env",
   "language": "python",
   "name": "python3"
  },
  "language_info": {
   "codemirror_mode": {
    "name": "ipython",
    "version": 3
   },
   "file_extension": ".py",
   "mimetype": "text/x-python",
   "name": "python",
   "nbconvert_exporter": "python",
   "pygments_lexer": "ipython3",
   "version": "3.10.16"
  }
 },
 "nbformat": 4,
 "nbformat_minor": 5
}
