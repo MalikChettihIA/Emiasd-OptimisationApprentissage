{
 "cells": [
  {
   "cell_type": "markdown",
   "metadata": {
    "deletable": false,
    "editable": false,
    "id": "f1Ox30RhmT23",
    "run_control": {
     "frozen": true
    },
    "slideshow": {
     "slide_type": ""
    },
    "tags": []
   },
   "source": [
    "# How to serve shops from warehouses?\n",
    "\n",
    "A production company has $n$ warehouses ($i = 1, 2,\\dots, n$) and it has to serve $m$ shops ($j = 1, 2,\\dots, m$). Each warehouses $i$ can deliver a determined amount of product per week;\n",
    "$a_i$ is called the capacity of the warehouse. Each shop $j$ has a known weekly demand of $b_j$.\n",
    "The cost of shipping one unit of product from warehouse i to the shop j has been estimated in $c_{ij}$ (dollars per unit)."
   ]
  },
  {
   "cell_type": "markdown",
   "metadata": {
    "deletable": false,
    "editable": false,
    "id": "iY1GQKcgmywo",
    "run_control": {
     "frozen": true
    }
   },
   "source": [
    "## Question 1\n",
    "\n",
    "Write a LP model to minimize the total cost to satisfy the demands of the shops.\n",
    "Identify the decisions that must be taken and the corresponding decision variables that have to be used. Identify and comment the objective function of the problem and the constraints."
   ]
  },
  {
   "cell_type": "markdown",
   "metadata": {
    "deletable": false,
    "editable": true,
    "id": "zjy2a9L_uDvl",
    "run_control": {
     "frozen": false
    },
    "slideshow": {
     "slide_type": ""
    },
    "tags": [
     "answer"
    ]
   },
   "source": [
    "**Réponse :** \n",
    "\n",
    "![Réponse](image_tp1.png)\n",
    "\n",
    "\n"
   ]
  },
  {
   "cell_type": "markdown",
   "metadata": {
    "deletable": false,
    "editable": false,
    "id": "G84E2wttm7PM",
    "run_control": {
     "frozen": true
    }
   },
   "source": [
    "\n",
    "## Question 2\n",
    "\n",
    "Now consider the follow case in which two are the warehouses ($n = 2$) with weekly\n",
    "capacities $a_1 = 1200.5$ and $a_2 = 1100.5$. Three are the shops ($m = 3$), the corresponding weekly demands are $b_1 = 500.5$, $b_2 = 600.5$ and $b_3 = 1000.5$. The following are the estimated shipping costs:\n",
    "\n",
    " &nbsp;    | Shop 1 | Shop 2 | Shop 3\n",
    "---|---|----|---|\n",
    "Warehouse 1 | 300 | 200 | 100\n",
    "Warehouse 2 | 250 | 400 | 80\n",
    "\n",
    "Write the LP model for this specific case."
   ]
  },
  {
   "cell_type": "markdown",
   "metadata": {
    "deletable": false,
    "editable": false,
    "id": "DeURqKffoRGz",
    "run_control": {
     "frozen": true
    }
   },
   "source": [
    "## Question 3\n",
    "\n",
    "Solve this instance with a solver to find an optimal solution.\n"
   ]
  },
  {
   "cell_type": "code",
   "execution_count": null,
   "metadata": {
    "colab": {
     "base_uri": "https://localhost:8080/"
    },
    "editable": true,
    "id": "fH4h8VVQofHT",
    "outputId": "0d90de77-5299-4775-966f-33a30af235cd",
    "slideshow": {
     "slide_type": ""
    },
    "tags": []
   },
   "outputs": [],
   "source": [
    "%pip install mip"
   ]
  },
  {
   "cell_type": "code",
   "execution_count": 1,
   "metadata": {
    "colab": {
     "base_uri": "https://localhost:8080/"
    },
    "id": "2puyioZMojCu",
    "outputId": "ebbc2b9a-0935-4c38-c9e8-13389a75eb09"
   },
   "outputs": [],
   "source": [
    "from mip import *"
   ]
  },
  {
   "cell_type": "code",
   "execution_count": 2,
   "metadata": {
    "colab": {
     "base_uri": "https://localhost:8080/"
    },
    "editable": true,
    "id": "D9a8Wb2oopcw",
    "outputId": "81dfa454-c486-4ffe-f677-e4e0f782ba05",
    "slideshow": {
     "slide_type": ""
    }
   },
   "outputs": [],
   "source": [
    "costs = [\n",
    "    [300, 200, 100],\n",
    "    [250, 400, 80]\n",
    "]\n",
    "\n",
    "capacities = [1200.5, 1100.5]\n",
    "\n",
    "demands = [ 500.5, 600.5, 1000.5]\n",
    "\n",
    "I = range(len(capacities))\n",
    "J = range(len(demands))\n"
   ]
  },
  {
   "cell_type": "code",
   "execution_count": 3,
   "metadata": {
    "tags": [
     "answer"
    ]
   },
   "outputs": [
    {
     "name": "stdout",
     "output_type": "stream",
     "text": [
      "Welcome to the CBC MILP Solver \n",
      "Version: devel \n",
      "Build Date: Feb 11 2025\n",
      "Starting solution of the Linear programming problem using Primal Simplex\n",
      "\n",
      "Coin0506I Presolve 5 (-2) rows, 6 (0) columns and 12 (-6) elements\n",
      "Clp1000I sum of infeasibilities 6.05178e-09 - average 1.21036e-09, 1 fixed columns\n",
      "Coin0506I Presolve 4 (-1) rows, 4 (-2) columns and 8 (-4) elements\n",
      "Clp0029I End of values pass after 4 iterations\n",
      "Clp0000I Optimal - objective value 333275\n",
      "Clp0000I Optimal - objective value 333275\n",
      "Coin0511I After Postsolve, objective 333275, infeasibilities - dual 0 (0), primal 0 (0)\n",
      "Clp0000I Optimal - objective value 333275\n",
      "Clp0000I Optimal - objective value 333275\n",
      "Coin0511I After Postsolve, objective 333275, infeasibilities - dual 0 (0), primal 0 (0)\n",
      "Clp0032I Optimal objective 333275 - 0 iterations time 0.002, Presolve 0.00, Idiot 0.00\n",
      "Coût total de transport minimal = 333275.0\n",
      "Quantité expédiée de l'entrepôt 0 vers le magasin 0 : 0.0\n",
      "Quantité expédiée de l'entrepôt 0 vers le magasin 1 : 600.5\n",
      "Quantité expédiée de l'entrepôt 0 vers le magasin 2 : 400.5\n",
      "Quantité expédiée de l'entrepôt 1 vers le magasin 0 : 500.5\n",
      "Quantité expédiée de l'entrepôt 1 vers le magasin 1 : 0.0\n",
      "Quantité expédiée de l'entrepôt 1 vers le magasin 2 : 600.0\n"
     ]
    }
   ],
   "source": [
    "############################## \n",
    "#   Saisir votre code ici.   #\n",
    "##############################\n",
    "\n",
    "# Création du modèle de programmation linéaire\n",
    "model = Model(sense=MINIMIZE)\n",
    "\n",
    "# Définition des variables de décision : x[i][j] représente la quantité expédiée de i vers j\n",
    "x_vars = [[model.add_var(name=f\"x_{i}_{j}\", var_type=CONTINUOUS) for j in J] for i in I]\n",
    "\n",
    "# Définition de la fonction objectif (minimiser le coût total de transport)\n",
    "model.objective = minimize(xsum(costs[i][j] * x_vars[i][j] for i in I for j in J))\n",
    "\n",
    "# Ajout des contraintes de capacité des entrepôts\n",
    "for i in I:\n",
    "    model += xsum(x_vars[i][j] for j in J) <= capacities[i], f\"Capacité_entrepôt_{i}\"\n",
    "\n",
    "# Ajout des contraintes de demande des magasins\n",
    "for j in J:\n",
    "    model += xsum(x_vars[i][j] for i in I) >= demands[j], f\"Demande_magasin_{j}\"\n",
    "\n",
    "# Ajout des contraintes de non-négativité\n",
    "for i in I:\n",
    "    model += xsum(x_vars[i][j] for j in J) >= 0, f\"Non-négativité_entrepôt_{i}\"\n",
    "\n",
    "# Ajout de la contrainte - la sommes des capacités des entrepots doit être supperieur ou égale à la somme des demandes des magasins\n",
    "model += xsum(capacities[i] for i in I) >= xsum(demands[j] for j in J), \"Contrainte - la sommes des capacités des entrepots doit être supperieur ou égale à la somme des demandes des magasins\"\n",
    "\n",
    "# Résolution du modèle\n",
    "model.optimize()\n",
    "\n",
    "# Affichage de la solution\n",
    "if model.num_solutions:\n",
    "    print(f\"Coût total de transport minimal = {model.objective_value}\")\n",
    "    for i in I:\n",
    "        for j in J:\n",
    "            print(f\"Quantité expédiée de l'entrepôt {i} vers le magasin {j} : {x_vars[i][j].x}\")\n",
    "else:\n",
    "    print(\"Aucune solution trouvée\")"
   ]
  }
 ],
 "metadata": {
  "colab": {
   "provenance": []
  },
  "kernelspec": {
   "display_name": "emiasd-optimisation-env",
   "language": "python",
   "name": "python3"
  },
  "language_info": {
   "codemirror_mode": {
    "name": "ipython",
    "version": 3
   },
   "file_extension": ".py",
   "mimetype": "text/x-python",
   "name": "python",
   "nbconvert_exporter": "python",
   "pygments_lexer": "ipython3",
   "version": "3.10.16"
  }
 },
 "nbformat": 4,
 "nbformat_minor": 4
}
